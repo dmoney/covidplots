{
 "cells": [
  {
   "cell_type": "code",
   "execution_count": null,
   "metadata": {},
   "outputs": [],
   "source": [
    "# Disclaimer:\n",
    "# \n",
    "# THIS IS NOT MEDICAL OR SCIENTIFIC INFORMATION. \n",
    "# I AM NOT A DOCTOR OR EPIDEMIOLOGIST.\n",
    "# \n",
    "# The notebooks and code in this repository are meant \n",
    "# to explore and illustrate exponential growth, and the \n",
    "# effect of different variables (such as growth rates) on \n",
    "# that growth.  Both the information about the virus, as \n",
    "# well as the mathematics, or other info could be incorrect, \n",
    "# out of date, or otherwise wrong.  \n",
    "# \n",
    "# Please refer to public health officials or a medical doctor\n",
    "# for accurate information about the virus as it actually \n",
    "# pertains to reality."
   ]
  },
  {
   "cell_type": "code",
   "execution_count": 216,
   "metadata": {},
   "outputs": [],
   "source": [
    "# states:\n",
    "UNINFECTED = 0\n",
    "INFECTED = 1\n",
    "RECOVERED = 3\n",
    "DEAD = 4\n",
    "\n",
    "# parameters:\n",
    "RECOVERY_TIME = 21\n",
    "INFECTION_CHANCE = .5\n",
    "DEATH_CHANCE = .02\n",
    "GRID_SIZE = 20\n",
    "INITIAL_INFECTED = 1\n",
    "DAYS_TO_SIMULATE = 100"
   ]
  },
  {
   "cell_type": "code",
   "execution_count": 217,
   "metadata": {},
   "outputs": [],
   "source": [
    "from attr import attrs, attrib\n",
    "import random\n",
    "\n",
    "@attrs\n",
    "class Person:\n",
    "    status = attrib(default=UNINFECTED)\n",
    "    infection_days = attrib(default=0)\n",
    "    _becoming_infected = attrib(default=False)\n",
    "    \n",
    "    def become_infected(self):\n",
    "        if self.status is UNINFECTED:\n",
    "            self._becoming_infected=True\n",
    "            \n",
    "    def infect_neighbors(self, neighbors):\n",
    "        if self.status is INFECTED:\n",
    "            for neighbor in neighbors:\n",
    "                if random.random() < INFECTION_CHANCE:\n",
    "                    neighbor.become_infected()\n",
    "                    \n",
    "    def progression_step(self):\n",
    "        if self.status in (DEAD, RECOVERED):\n",
    "            return\n",
    "        \n",
    "        if self._becoming_infected:\n",
    "            self.status = INFECTED\n",
    "            infection_days = 0\n",
    "            self._becoming_infected = False\n",
    "        \n",
    "        if self.status is INFECTED:\n",
    "            self.infection_days += 1\n",
    "            \n",
    "        if self.infection_days >= RECOVERY_TIME:\n",
    "            if random.random() < DEATH_CHANCE:\n",
    "                self.status = DEAD\n",
    "            else:\n",
    "                self.status = RECOVERED\n",
    "                \n",
    "    def __str__(self):\n",
    "        return {\n",
    "            UNINFECTED: '😀',\n",
    "            INFECTED: '🤢',\n",
    "            RECOVERED: '😎',\n",
    "            DEAD: '💀'\n",
    "            \n",
    "        }[self.status]\n",
    "                \n",
    "class Grid:\n",
    "    def __init__(self, size):\n",
    "        self.rows = [[Person(status=UNINFECTED) \n",
    "                      for _ in range(GRID_SIZE)] \n",
    "                         for _ in range(GRID_SIZE)]\n",
    "    \n",
    "    def print(self):\n",
    "        for row in self.rows:\n",
    "            print(\"\".join([str(person) for person in row]))\n",
    "            \n",
    "    def stats(self):\n",
    "        stats = {\n",
    "            UNINFECTED: 0,\n",
    "            INFECTED: 0,\n",
    "            RECOVERED: 0,\n",
    "            DEAD: 0,\n",
    "        }\n",
    "        for row in self.rows:\n",
    "            for person in row:\n",
    "                stats[person.status] += 1\n",
    "        return stats\n",
    "    \n",
    "    def people(self):\n",
    "        for column in range(GRID_SIZE):\n",
    "            for row in range(GRID_SIZE):\n",
    "                neighbor_indices = grid_neighbors(column, row)\n",
    "                person = self.rows[row][column]\n",
    "                neighbors = [self.rows[row][column] for column, row in neighbor_indices]\n",
    "                yield column, row, person, neighbors\n",
    "                \n",
    "    def step(self, num_steps=1):\n",
    "        for _ in range(num_steps):\n",
    "            for column, row, person, neighbors in self.people():\n",
    "                person.infect_neighbors(neighbors)\n",
    "\n",
    "            for column, row, person, neighbors in self.people():\n",
    "                person.progression_step()\n",
    "                \n",
    "def grid_neighbors(column, row):\n",
    "    neighbors = []\n",
    "    if row > 0:\n",
    "        neighbors.append((column, row - 1))\n",
    "    if column > 0:\n",
    "        neighbors.append((column - 1, row))\n",
    "    if row < GRID_SIZE - 1:\n",
    "        neighbors.append((column, row + 1))\n",
    "    if column < GRID_SIZE - 1:\n",
    "        neighbors.append((column + 1, row))\n",
    "    return neighbors\n",
    "        \n",
    "# print(grid_neighbors(0, 0))\n",
    "# print(grid_neighbors(GRID_SIZE - 1, GRID_SIZE - 1))"
   ]
  },
  {
   "cell_type": "code",
   "execution_count": 218,
   "metadata": {},
   "outputs": [],
   "source": [
    "# set up the grid\n",
    "grid = Grid(GRID_SIZE)\n",
    "_mid_cell = GRID_SIZE // 2\n",
    "grid.rows[_mid_cell][_mid_cell].status = INFECTED\n"
   ]
  },
  {
   "cell_type": "code",
   "execution_count": 219,
   "metadata": {
    "scrolled": true
   },
   "outputs": [],
   "source": [
    "# do a step or steps manually for debugging etc.\n",
    "# grid.step()\n",
    "# grid.print()"
   ]
  },
  {
   "cell_type": "code",
   "execution_count": 220,
   "metadata": {},
   "outputs": [],
   "source": [
    "def tupleize_grid_stats(stats):\n",
    "    return (\n",
    "        stats[UNINFECTED], \n",
    "        stats[INFECTED], \n",
    "        stats[DEAD], \n",
    "        stats[RECOVERED]\n",
    "    )\n",
    "\n",
    "rows = []\n",
    "rows.append(tupleize_grid_stats(grid.stats()))\n",
    "for _ in range(DAYS_TO_SIMULATE):\n",
    "    grid.step()\n",
    "    rows.append(tupleize_grid_stats(grid.stats()))"
   ]
  },
  {
   "cell_type": "code",
   "execution_count": 221,
   "metadata": {},
   "outputs": [],
   "source": [
    "import matplotlib.pyplot as plt"
   ]
  },
  {
   "cell_type": "code",
   "execution_count": 222,
   "metadata": {},
   "outputs": [],
   "source": [
    "def do_plot(rows, ylabel=\"number\", yscale=None):\n",
    "    plt.plot(rows)\n",
    "    plt.xlabel(\"day\")\n",
    "    plt.ylabel(ylabel)\n",
    "    line_labels = [\n",
    "        \"uninfected\", \n",
    "        \"infected\", \n",
    "        \"dead\", \n",
    "        \"recovered\"\n",
    "    ]\n",
    "    plt.legend(line_labels)\n",
    "    if yscale:\n",
    "        plt.yscale(yscale)\n",
    "    plt.show()"
   ]
  },
  {
   "cell_type": "code",
   "execution_count": 223,
   "metadata": {},
   "outputs": [
    {
     "data": {
      "image/png": "[encoded data removed]",
      "text/plain": [
       "<Figure size 432x288 with 1 Axes>"
      ]
     },
     "metadata": {
      "needs_background": "light"
     },
     "output_type": "display_data"
    }
   ],
   "source": [
    "do_plot(rows)"
   ]
  },
  {
   "cell_type": "code",
   "execution_count": 224,
   "metadata": {},
   "outputs": [],
   "source": [
    "#for row in rows: print(row)"
   ]
  },
  {
   "cell_type": "code",
   "execution_count": 225,
   "metadata": {},
   "outputs": [
    {
     "data": {
      "image/png": "[encoded data removed]",
      "text/plain": [
       "<Figure size 432x288 with 1 Axes>"
      ]
     },
     "metadata": {
      "needs_background": "light"
     },
     "output_type": "display_data"
    }
   ],
   "source": [
    "do_plot(rows, ylabel=\"number (log scale)\", yscale=\"log\")"
   ]
  },
  {
   "cell_type": "code",
   "execution_count": null,
   "metadata": {},
   "outputs": [],
   "source": []
  }
 ],
 "metadata": {
  "kernelspec": {
   "display_name": "Python 3",
   "language": "python",
   "name": "python3"
  },
  "language_info": {
   "codemirror_mode": {
    "name": "ipython",
    "version": 3
   },
   "file_extension": ".py",
   "mimetype": "text/x-python",
   "name": "python",
   "nbconvert_exporter": "python",
   "pygments_lexer": "ipython3",
   "version": "3.7.5"
  }
 },
 "nbformat": 4,
 "nbformat_minor": 4
}
