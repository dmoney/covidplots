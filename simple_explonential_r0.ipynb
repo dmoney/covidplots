{
 "cells": [
  {
   "cell_type": "code",
   "execution_count": 6,
   "metadata": {},
   "outputs": [],
   "source": [
    "r = [1.3, 2, 2.5]\n",
    "infected = [1, 1, 1]"
   ]
  },
  {
   "cell_type": "code",
   "execution_count": 18,
   "metadata": {
    "scrolled": false
   },
   "outputs": [
    {
     "data": {
      "text/plain": [
       "[(1, 1, 1),\n",
       " (1.3, 2, 2.5),\n",
       " (1.6900000000000002, 4, 6.25),\n",
       " (2.1970000000000005, 8, 15.625),\n",
       " (2.856100000000001, 16, 39.0625),\n",
       " (3.7129300000000014, 32, 97.65625),\n",
       " (4.826809000000002, 64, 244.140625),\n",
       " (6.274851700000003, 128, 610.3515625),\n",
       " (8.157307210000004, 256, 1525.87890625),\n",
       " (10.604499373000007, 512, 3814.697265625),\n",
       " (13.785849184900009, 1024, 9536.7431640625),\n",
       " (17.921603940370012, 2048, 23841.85791015625),\n",
       " (23.298085122481016, 4096, 59604.644775390625),\n",
       " (30.287510659225322, 8192, 149011.61193847656),\n",
       " (39.37376385699292, 16384, 372529.0298461914),\n",
       " (51.1858930140908, 32768, 931322.5746154785),\n",
       " (66.54166091831804, 65536, 2328306.4365386963),\n",
       " (86.50415919381346, 131072, 5820766.091346741),\n",
       " (112.45540695195751, 262144, 14551915.228366852),\n",
       " (146.19202903754478, 524288, 36379788.07091713)]"
      ]
     },
     "execution_count": 18,
     "metadata": {},
     "output_type": "execute_result"
    }
   ],
   "source": [
    "rows = []\n",
    "for _ in range(20):\n",
    "    rows.append(tuple(infected))\n",
    "    for i in range(len(infected)):\n",
    "        infected[i] *= r[i]\n",
    "rows"
   ]
  },
  {
   "cell_type": "code",
   "execution_count": 15,
   "metadata": {},
   "outputs": [],
   "source": [
    "# Convert to integer and format with commas\n",
    "display_rows = [[f\"{int(col):,}\" for col in row] for row in rows]"
   ]
  },
  {
   "cell_type": "code",
   "execution_count": 17,
   "metadata": {},
   "outputs": [
    {
     "data": {
      "text/html": [
       "<table>\n",
       "<tbody>\n",
       "<tr><td style=\"text-align: right;\">  1</td><td>1      </td><td>1         </td></tr>\n",
       "<tr><td style=\"text-align: right;\">  1</td><td>2      </td><td>2         </td></tr>\n",
       "<tr><td style=\"text-align: right;\">  1</td><td>4      </td><td>6         </td></tr>\n",
       "<tr><td style=\"text-align: right;\">  2</td><td>8      </td><td>15        </td></tr>\n",
       "<tr><td style=\"text-align: right;\">  2</td><td>16     </td><td>39        </td></tr>\n",
       "<tr><td style=\"text-align: right;\">  3</td><td>32     </td><td>97        </td></tr>\n",
       "<tr><td style=\"text-align: right;\">  4</td><td>64     </td><td>244       </td></tr>\n",
       "<tr><td style=\"text-align: right;\">  6</td><td>128    </td><td>610       </td></tr>\n",
       "<tr><td style=\"text-align: right;\">  8</td><td>256    </td><td>1,525     </td></tr>\n",
       "<tr><td style=\"text-align: right;\"> 10</td><td>512    </td><td>3,814     </td></tr>\n",
       "<tr><td style=\"text-align: right;\"> 13</td><td>1,024  </td><td>9,536     </td></tr>\n",
       "<tr><td style=\"text-align: right;\"> 17</td><td>2,048  </td><td>23,841    </td></tr>\n",
       "<tr><td style=\"text-align: right;\"> 23</td><td>4,096  </td><td>59,604    </td></tr>\n",
       "<tr><td style=\"text-align: right;\"> 30</td><td>8,192  </td><td>149,011   </td></tr>\n",
       "<tr><td style=\"text-align: right;\"> 39</td><td>16,384 </td><td>372,529   </td></tr>\n",
       "<tr><td style=\"text-align: right;\"> 51</td><td>32,768 </td><td>931,322   </td></tr>\n",
       "<tr><td style=\"text-align: right;\"> 66</td><td>65,536 </td><td>2,328,306 </td></tr>\n",
       "<tr><td style=\"text-align: right;\"> 86</td><td>131,072</td><td>5,820,766 </td></tr>\n",
       "<tr><td style=\"text-align: right;\">112</td><td>262,144</td><td>14,551,915</td></tr>\n",
       "<tr><td style=\"text-align: right;\">146</td><td>524,288</td><td>36,379,788</td></tr>\n",
       "</tbody>\n",
       "</table>"
      ],
      "text/plain": [
       "<IPython.core.display.HTML object>"
      ]
     },
     "metadata": {},
     "output_type": "display_data"
    }
   ],
   "source": [
    "from IPython.display import HTML, display\n",
    "import tabulate\n",
    "display(HTML(tabulate.tabulate(display_rows, tablefmt='html')))"
   ]
  },
  {
   "cell_type": "code",
   "execution_count": 21,
   "metadata": {},
   "outputs": [],
   "source": [
    "import matplotlib.pyplot as plt\n",
    "import numpy as np"
   ]
  },
  {
   "cell_type": "code",
   "execution_count": 22,
   "metadata": {},
   "outputs": [
    {
     "data": {
      "image/png": "[encoded data removed]",
      "text/plain": [
       "<Figure size 432x288 with 1 Axes>"
      ]
     },
     "metadata": {
      "needs_background": "light"
     },
     "output_type": "display_data"
    }
   ],
   "source": [
    "plt.plot(rows)\n",
    "plt.show()"
   ]
  },
  {
   "cell_type": "code",
   "execution_count": null,
   "metadata": {},
   "outputs": [],
   "source": []
  }
 ],
 "metadata": {
  "kernelspec": {
   "display_name": "Python 3",
   "language": "python",
   "name": "python3"
  },
  "language_info": {
   "codemirror_mode": {
    "name": "ipython",
    "version": 3
   },
   "file_extension": ".py",
   "mimetype": "text/x-python",
   "name": "python",
   "nbconvert_exporter": "python",
   "pygments_lexer": "ipython3",
   "version": "3.7.5"
  }
 },
 "nbformat": 4,
 "nbformat_minor": 4
}
