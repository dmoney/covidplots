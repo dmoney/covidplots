{
 "cells": [
  {
   "cell_type": "code",
   "execution_count": 1,
   "metadata": {},
   "outputs": [],
   "source": [
    "# Disclaimer:\n",
    "# \n",
    "# THIS IS NOT MEDICAL OR SCIENTIFIC INFORMATION. \n",
    "# I AM NOT A DOCTOR OR EPIDEMIOLOGIST.\n",
    "# \n",
    "# The notebooks and code in this repository are meant \n",
    "# to explore and illustrate exponential growth, and the \n",
    "# effect of different variables (such as growth rates) on \n",
    "# that growth.  Both the information about the virus, as \n",
    "# well as the mathematics, or other info could be incorrect, \n",
    "# out of date, or otherwise wrong.  \n",
    "# \n",
    "# Please refer to public health officials or a medical doctor\n",
    "# for accurate information about the virus as it actually \n",
    "# pertains to reality."
   ]
  },
  {
   "cell_type": "code",
   "execution_count": 15,
   "metadata": {},
   "outputs": [],
   "source": [
    "# R0 values for seasonal flu (1.3), \n",
    "# and low and high estimates for SARS-CoV-2 coronavirus\n",
    "r = [1.3, 2, 2.5]"
   ]
  },
  {
   "cell_type": "code",
   "execution_count": 16,
   "metadata": {
    "scrolled": false
   },
   "outputs": [],
   "source": [
    "infected = [1 for _ in range(len(r))]\n",
    "rows = []\n",
    "for _ in range(20):\n",
    "    rows.append(tuple(infected))\n",
    "    for i in range(len(infected)):\n",
    "        infected[i] *= r[i]\n",
    "#rows"
   ]
  },
  {
   "cell_type": "code",
   "execution_count": 17,
   "metadata": {},
   "outputs": [],
   "source": [
    "# Convert to integer and format with commas\n",
    "display_rows = [[f\"{int(col):,}\" for col in row] for row in rows]"
   ]
  },
  {
   "cell_type": "code",
   "execution_count": 18,
   "metadata": {},
   "outputs": [
    {
     "data": {
      "text/html": [
       "<table>\n",
       "<tbody>\n",
       "<tr><td style=\"text-align: right;\">  1</td><td>1      </td><td>1         </td></tr>\n",
       "<tr><td style=\"text-align: right;\">  1</td><td>2      </td><td>2         </td></tr>\n",
       "<tr><td style=\"text-align: right;\">  1</td><td>4      </td><td>6         </td></tr>\n",
       "<tr><td style=\"text-align: right;\">  2</td><td>8      </td><td>15        </td></tr>\n",
       "<tr><td style=\"text-align: right;\">  2</td><td>16     </td><td>39        </td></tr>\n",
       "<tr><td style=\"text-align: right;\">  3</td><td>32     </td><td>97        </td></tr>\n",
       "<tr><td style=\"text-align: right;\">  4</td><td>64     </td><td>244       </td></tr>\n",
       "<tr><td style=\"text-align: right;\">  6</td><td>128    </td><td>610       </td></tr>\n",
       "<tr><td style=\"text-align: right;\">  8</td><td>256    </td><td>1,525     </td></tr>\n",
       "<tr><td style=\"text-align: right;\"> 10</td><td>512    </td><td>3,814     </td></tr>\n",
       "<tr><td style=\"text-align: right;\"> 13</td><td>1,024  </td><td>9,536     </td></tr>\n",
       "<tr><td style=\"text-align: right;\"> 17</td><td>2,048  </td><td>23,841    </td></tr>\n",
       "<tr><td style=\"text-align: right;\"> 23</td><td>4,096  </td><td>59,604    </td></tr>\n",
       "<tr><td style=\"text-align: right;\"> 30</td><td>8,192  </td><td>149,011   </td></tr>\n",
       "<tr><td style=\"text-align: right;\"> 39</td><td>16,384 </td><td>372,529   </td></tr>\n",
       "<tr><td style=\"text-align: right;\"> 51</td><td>32,768 </td><td>931,322   </td></tr>\n",
       "<tr><td style=\"text-align: right;\"> 66</td><td>65,536 </td><td>2,328,306 </td></tr>\n",
       "<tr><td style=\"text-align: right;\"> 86</td><td>131,072</td><td>5,820,766 </td></tr>\n",
       "<tr><td style=\"text-align: right;\">112</td><td>262,144</td><td>14,551,915</td></tr>\n",
       "<tr><td style=\"text-align: right;\">146</td><td>524,288</td><td>36,379,788</td></tr>\n",
       "</tbody>\n",
       "</table>"
      ],
      "text/plain": [
       "<IPython.core.display.HTML object>"
      ]
     },
     "metadata": {},
     "output_type": "display_data"
    }
   ],
   "source": [
    "from IPython.display import HTML, display\n",
    "import tabulate\n",
    "display(HTML(tabulate.tabulate(display_rows, tablefmt='html')))"
   ]
  },
  {
   "cell_type": "code",
   "execution_count": 19,
   "metadata": {},
   "outputs": [],
   "source": [
    "import matplotlib.pyplot as plt\n",
    "import numpy as np"
   ]
  },
  {
   "cell_type": "code",
   "execution_count": 26,
   "metadata": {},
   "outputs": [
    {
     "data": {
      "image/png": "[encoded data removed]",
      "text/plain": [
       "<Figure size 432x288 with 1 Axes>"
      ]
     },
     "metadata": {
      "needs_background": "light"
     },
     "output_type": "display_data"
    }
   ],
   "source": [
    "plt.plot(rows)\n",
    "plt.xlabel(\"generation\")\n",
    "# seems to be showing it in 10s of millions for some reason\n",
    "plt.ylabel(\"infected (in 10s of millions)\")\n",
    "line_labels = [f\"R0 = {rvalue}\" for rvalue in r]\n",
    "plt.legend(line_labels)\n",
    "plt.show()"
   ]
  },
  {
   "cell_type": "code",
   "execution_count": null,
   "metadata": {},
   "outputs": [],
   "source": []
  }
 ],
 "metadata": {
  "kernelspec": {
   "display_name": "Python 3",
   "language": "python",
   "name": "python3"
  },
  "language_info": {
   "codemirror_mode": {
    "name": "ipython",
    "version": 3
   },
   "file_extension": ".py",
   "mimetype": "text/x-python",
   "name": "python",
   "nbconvert_exporter": "python",
   "pygments_lexer": "ipython3",
   "version": "3.7.5"
  }
 },
 "nbformat": 4,
 "nbformat_minor": 4
}
